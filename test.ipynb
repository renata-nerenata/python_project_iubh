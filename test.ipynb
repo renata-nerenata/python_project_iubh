{
 "cells": [
  {
   "cell_type": "code",
   "execution_count": 1,
   "id": "interim-singing",
   "metadata": {},
   "outputs": [],
   "source": [
    "from src.models.evaluation_score import squared_error"
   ]
  },
  {
   "cell_type": "code",
   "execution_count": 3,
   "id": "strong-encoding",
   "metadata": {},
   "outputs": [
    {
     "data": {
      "text/plain": [
       "1"
      ]
     },
     "execution_count": 3,
     "metadata": {},
     "output_type": "execute_result"
    }
   ],
   "source": [
    "squared_error(2, 3)"
   ]
  },
  {
   "cell_type": "code",
   "execution_count": null,
   "id": "bound-bunny",
   "metadata": {},
   "outputs": [],
   "source": [
    "from utils "
   ]
  }
 ],
 "metadata": {
  "kernelspec": {
   "display_name": "Python 3",
   "language": "python",
   "name": "python3"
  },
  "language_info": {
   "codemirror_mode": {
    "name": "ipython",
    "version": 3
   },
   "file_extension": ".py",
   "mimetype": "text/x-python",
   "name": "python",
   "nbconvert_exporter": "python",
   "pygments_lexer": "ipython3",
   "version": "3.8.5"
  }
 },
 "nbformat": 4,
 "nbformat_minor": 5
}
